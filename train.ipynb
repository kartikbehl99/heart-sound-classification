{
 "cells": [
  {
   "cell_type": "code",
   "execution_count": 5,
   "metadata": {},
   "outputs": [],
   "source": [
    "import numpy as np\n",
    "import librosa\n",
    "from librosa.display import waveplot\n",
    "import keras\n",
    "from keras import Sequential, Model, layers, activations\n",
    "import matplotlib.pyplot as plt\n",
    "import pandas as pd\n",
    "from sklearn.model_selection import train_test_split\n",
    "from keras.optimizers import Adam"
   ]
  },
  {
   "cell_type": "code",
   "execution_count": 6,
   "metadata": {},
   "outputs": [],
   "source": [
    "dir_name_id = ['a', 'b', 'c', 'd', 'e', 'f']\n",
    "dir_name = './training/training-'"
   ]
  },
  {
   "cell_type": "code",
   "execution_count": 7,
   "metadata": {},
   "outputs": [],
   "source": [
    "def load_file_names(dir_name, dir_name_id):\n",
    "    records_normal = {}\n",
    "    records_abnormal = {}\n",
    "    for i in dir_name_id:\n",
    "        file_normal = open(dir_name + i + '/RECORDS-normal')\n",
    "        file_abnormal = open(dir_name + i + '/RECORDS-abnormal')\n",
    "        records_normal['training-' + i] = file_normal.read().splitlines()\n",
    "        records_abnormal['training-' + i] = file_abnormal.read().splitlines()\n",
    "    \n",
    "    \n",
    "    return records_normal, records_abnormal"
   ]
  },
  {
   "cell_type": "code",
   "execution_count": 8,
   "metadata": {},
   "outputs": [],
   "source": [
    "'''\n",
    "In sound processing, the mel-frequency cepstrum (MFC) is a representation of the short-term power \n",
    "spectrum of a sound, based on a linear cosine transform of a log power spectrum on a nonlinear mel \n",
    "scale of frequency.\n",
    "'''\n",
    "\n",
    "def extract_mfcc_feature(file_names):\n",
    "    data = []\n",
    "    for key in file_names.keys():\n",
    "        \n",
    "        for file in file_names[key]:\n",
    "            audio, sample_rate = librosa.load('./training/' + key + '/' + file + '.wav', res_type='kaiser_fast')\n",
    "            mfccs = np.mean(librosa.feature.mfcc(y=audio, sr=sample_rate, n_mfcc=40).T, axis=0)\n",
    "            feature = np.array(mfccs).reshape([-1,1])\n",
    "            data.append(feature)\n",
    "        \n",
    "        print(key + ' done')\n",
    "    \n",
    "    return data"
   ]
  },
  {
   "cell_type": "code",
   "execution_count": 28,
   "metadata": {},
   "outputs": [],
   "source": [
    "records_normal, records_abnormal = load_file_names(dir_name, dir_name_id)"
   ]
  },
  {
   "cell_type": "code",
   "execution_count": 29,
   "metadata": {},
   "outputs": [
    {
     "name": "stdout",
     "output_type": "stream",
     "text": [
      "training-a done\n",
      "training-b done\n",
      "training-c done\n",
      "training-d done\n",
      "training-e done\n",
      "training-f done\n"
     ]
    }
   ],
   "source": [
    "normal = np.array(extract_mfcc_feature(records_normal))"
   ]
  },
  {
   "cell_type": "code",
   "execution_count": 30,
   "metadata": {},
   "outputs": [
    {
     "name": "stdout",
     "output_type": "stream",
     "text": [
      "training-a done\n",
      "training-b done\n",
      "training-c done\n",
      "training-d done\n",
      "training-e done\n",
      "training-f done\n"
     ]
    }
   ],
   "source": [
    "abnormal = np.array(extract_mfcc_feature(records_abnormal))"
   ]
  },
  {
   "cell_type": "code",
   "execution_count": 31,
   "metadata": {},
   "outputs": [],
   "source": [
    "y_normal = np.ones([normal.shape[0]])\n",
    "y_abnormal = np.zeros([abnormal.shape[0]])"
   ]
  },
  {
   "cell_type": "code",
   "execution_count": 32,
   "metadata": {},
   "outputs": [],
   "source": [
    "x = np.concatenate((normal, abnormal), axis = 0)\n",
    "y = np.concatenate((y_normal, y_abnormal), axis = 0)"
   ]
  },
  {
   "cell_type": "code",
   "execution_count": 33,
   "metadata": {},
   "outputs": [],
   "source": [
    "x_train, x_test, y_train, y_test = train_test_split(x, y, test_size = 0.2)"
   ]
  },
  {
   "cell_type": "code",
   "execution_count": 34,
   "metadata": {},
   "outputs": [],
   "source": [
    "def make_model():\n",
    "    model = keras.Sequential()\n",
    "    model.add(keras.layers.LSTM(units=64, recurrent_dropout=0.30, return_sequences=True, input_shape=(40, 1)))\n",
    "    model.add(keras.layers.LSTM(units=32, recurrent_dropout=0.20, return_sequences=False))\n",
    "    model.add(keras.layers.Dense(units=1, activation='sigmoid'))\n",
    "    \n",
    "    model.compile(optimizer='adam', loss='binary_crossentropy', metrics=['accuracy'])\n",
    "    model.summary()\n",
    "    return model"
   ]
  },
  {
   "cell_type": "code",
   "execution_count": 35,
   "metadata": {},
   "outputs": [
    {
     "name": "stdout",
     "output_type": "stream",
     "text": [
      "_________________________________________________________________\n",
      "Layer (type)                 Output Shape              Param #   \n",
      "=================================================================\n",
      "lstm_1 (LSTM)                (None, 40, 64)            16896     \n",
      "_________________________________________________________________\n",
      "lstm_2 (LSTM)                (None, 32)                12416     \n",
      "_________________________________________________________________\n",
      "dense_1 (Dense)              (None, 1)                 33        \n",
      "=================================================================\n",
      "Total params: 29,345\n",
      "Trainable params: 29,345\n",
      "Non-trainable params: 0\n",
      "_________________________________________________________________\n"
     ]
    },
    {
     "name": "stderr",
     "output_type": "stream",
     "text": [
      "Exception ignored in: <bound method Wave_write.__del__ of <wave.Wave_write object at 0x7f018c63acf8>>\n",
      "Traceback (most recent call last):\n",
      "  File \"/home/kartik/anaconda3/lib/python3.6/wave.py\", line 316, in __del__\n",
      "    self.close()\n",
      "  File \"/home/kartik/anaconda3/lib/python3.6/wave.py\", line 434, in close\n",
      "    self._ensure_header_written(0)\n",
      "  File \"/home/kartik/anaconda3/lib/python3.6/wave.py\", line 454, in _ensure_header_written\n",
      "    raise Error('sample width not specified')\n",
      "wave.Error: sample width not specified\n"
     ]
    }
   ],
   "source": [
    "model = make_model()"
   ]
  },
  {
   "cell_type": "code",
   "execution_count": 36,
   "metadata": {},
   "outputs": [
    {
     "name": "stdout",
     "output_type": "stream",
     "text": [
      "Epoch 1/100\n",
      "2592/2592 [==============================] - 11s 4ms/step - loss: 0.5016 - acc: 0.7735\n",
      "Epoch 2/100\n",
      "2592/2592 [==============================] - 7s 3ms/step - loss: 0.3917 - acc: 0.8164\n",
      "Epoch 3/100\n",
      "2592/2592 [==============================] - 7s 3ms/step - loss: 0.3676 - acc: 0.8410\n",
      "Epoch 4/100\n",
      "2592/2592 [==============================] - 7s 3ms/step - loss: 0.3652 - acc: 0.8391\n",
      "Epoch 5/100\n",
      "2592/2592 [==============================] - 7s 3ms/step - loss: 0.3538 - acc: 0.8345\n",
      "Epoch 6/100\n",
      "2592/2592 [==============================] - 7s 3ms/step - loss: 0.3498 - acc: 0.8430\n",
      "Epoch 7/100\n",
      "2592/2592 [==============================] - 7s 3ms/step - loss: 0.3451 - acc: 0.8434\n",
      "Epoch 8/100\n",
      "2592/2592 [==============================] - 7s 3ms/step - loss: 0.3405 - acc: 0.8457\n",
      "Epoch 9/100\n",
      "2592/2592 [==============================] - 7s 3ms/step - loss: 0.3359 - acc: 0.8457\n",
      "Epoch 10/100\n",
      "2592/2592 [==============================] - 7s 3ms/step - loss: 0.3280 - acc: 0.8526\n",
      "Epoch 11/100\n",
      "2592/2592 [==============================] - 7s 3ms/step - loss: 0.3323 - acc: 0.8484\n",
      "Epoch 12/100\n",
      "2592/2592 [==============================] - 7s 3ms/step - loss: 0.3364 - acc: 0.8422\n",
      "Epoch 13/100\n",
      "2592/2592 [==============================] - 7s 3ms/step - loss: 0.3242 - acc: 0.8561\n",
      "Epoch 14/100\n",
      "2592/2592 [==============================] - 7s 3ms/step - loss: 0.3223 - acc: 0.8511\n",
      "Epoch 15/100\n",
      "2592/2592 [==============================] - 7s 3ms/step - loss: 0.3232 - acc: 0.8519\n",
      "Epoch 16/100\n",
      "2592/2592 [==============================] - 7s 3ms/step - loss: 0.3212 - acc: 0.8565\n",
      "Epoch 17/100\n",
      "2592/2592 [==============================] - 7s 3ms/step - loss: 0.3287 - acc: 0.8449\n",
      "Epoch 18/100\n",
      "2592/2592 [==============================] - 7s 3ms/step - loss: 0.3162 - acc: 0.8576\n",
      "Epoch 19/100\n",
      "2592/2592 [==============================] - 7s 3ms/step - loss: 0.3145 - acc: 0.8634\n",
      "Epoch 20/100\n",
      "2592/2592 [==============================] - 7s 3ms/step - loss: 0.3149 - acc: 0.8553\n",
      "Epoch 21/100\n",
      "2592/2592 [==============================] - 7s 3ms/step - loss: 0.3091 - acc: 0.8542\n",
      "Epoch 22/100\n",
      "2592/2592 [==============================] - 7s 3ms/step - loss: 0.3120 - acc: 0.8623\n",
      "Epoch 23/100\n",
      "2592/2592 [==============================] - 7s 3ms/step - loss: 0.2986 - acc: 0.8661\n",
      "Epoch 24/100\n",
      "2592/2592 [==============================] - 7s 3ms/step - loss: 0.3027 - acc: 0.8630\n",
      "Epoch 25/100\n",
      "2592/2592 [==============================] - 7s 3ms/step - loss: 0.2960 - acc: 0.8723\n",
      "Epoch 26/100\n",
      "2592/2592 [==============================] - 7s 3ms/step - loss: 0.2942 - acc: 0.8654\n",
      "Epoch 27/100\n",
      "2592/2592 [==============================] - 7s 3ms/step - loss: 0.2958 - acc: 0.8657\n",
      "Epoch 28/100\n",
      "2592/2592 [==============================] - 7s 3ms/step - loss: 0.2858 - acc: 0.8731\n",
      "Epoch 29/100\n",
      "2592/2592 [==============================] - 7s 3ms/step - loss: 0.2842 - acc: 0.8738\n",
      "Epoch 30/100\n",
      "2592/2592 [==============================] - 8s 3ms/step - loss: 0.2804 - acc: 0.8804\n",
      "Epoch 31/100\n",
      "2592/2592 [==============================] - 7s 3ms/step - loss: 0.2836 - acc: 0.8789\n",
      "Epoch 32/100\n",
      "2592/2592 [==============================] - 7s 3ms/step - loss: 0.2819 - acc: 0.8781\n",
      "Epoch 33/100\n",
      "2592/2592 [==============================] - 7s 3ms/step - loss: 0.2780 - acc: 0.8796\n",
      "Epoch 34/100\n",
      "2592/2592 [==============================] - 8s 3ms/step - loss: 0.2746 - acc: 0.8823\n",
      "Epoch 35/100\n",
      "2592/2592 [==============================] - 7s 3ms/step - loss: 0.2754 - acc: 0.8758\n",
      "Epoch 36/100\n",
      "2592/2592 [==============================] - 7s 3ms/step - loss: 0.2700 - acc: 0.8762\n",
      "Epoch 37/100\n",
      "2592/2592 [==============================] - 7s 3ms/step - loss: 0.2702 - acc: 0.8804\n",
      "Epoch 38/100\n",
      "2592/2592 [==============================] - 8s 3ms/step - loss: 0.2718 - acc: 0.8792\n",
      "Epoch 39/100\n",
      "2592/2592 [==============================] - 8s 3ms/step - loss: 0.2672 - acc: 0.8823\n",
      "Epoch 40/100\n",
      "2592/2592 [==============================] - 8s 3ms/step - loss: 0.2622 - acc: 0.8827\n",
      "Epoch 41/100\n",
      "2592/2592 [==============================] - 7s 3ms/step - loss: 0.2725 - acc: 0.8808\n",
      "Epoch 42/100\n",
      "2592/2592 [==============================] - 8s 3ms/step - loss: 0.2616 - acc: 0.8846\n",
      "Epoch 43/100\n",
      "2592/2592 [==============================] - 8s 3ms/step - loss: 0.2591 - acc: 0.8889\n",
      "Epoch 44/100\n",
      "2592/2592 [==============================] - 8s 3ms/step - loss: 0.2660 - acc: 0.8831\n",
      "Epoch 45/100\n",
      "2592/2592 [==============================] - 8s 3ms/step - loss: 0.2593 - acc: 0.8812\n",
      "Epoch 46/100\n",
      "2592/2592 [==============================] - 8s 3ms/step - loss: 0.2503 - acc: 0.8920\n",
      "Epoch 47/100\n",
      "2592/2592 [==============================] - 8s 3ms/step - loss: 0.2535 - acc: 0.8935\n",
      "Epoch 48/100\n",
      "2592/2592 [==============================] - 8s 3ms/step - loss: 0.2569 - acc: 0.8893\n",
      "Epoch 49/100\n",
      "2592/2592 [==============================] - 8s 3ms/step - loss: 0.2575 - acc: 0.8862\n",
      "Epoch 50/100\n",
      "2592/2592 [==============================] - 8s 3ms/step - loss: 0.2529 - acc: 0.8870\n",
      "Epoch 51/100\n",
      "2592/2592 [==============================] - 8s 3ms/step - loss: 0.2595 - acc: 0.8885\n",
      "Epoch 52/100\n",
      "2592/2592 [==============================] - 8s 3ms/step - loss: 0.2504 - acc: 0.8889\n",
      "Epoch 53/100\n",
      "2592/2592 [==============================] - 8s 3ms/step - loss: 0.2471 - acc: 0.8927\n",
      "Epoch 54/100\n",
      "2592/2592 [==============================] - 8s 3ms/step - loss: 0.2450 - acc: 0.8924\n",
      "Epoch 55/100\n",
      "2592/2592 [==============================] - 7s 3ms/step - loss: 0.2493 - acc: 0.8877\n",
      "Epoch 56/100\n",
      "2592/2592 [==============================] - 7s 3ms/step - loss: 0.2499 - acc: 0.8889\n",
      "Epoch 57/100\n",
      "2592/2592 [==============================] - 7s 3ms/step - loss: 0.2494 - acc: 0.8893\n",
      "Epoch 58/100\n",
      "2592/2592 [==============================] - 7s 3ms/step - loss: 0.2460 - acc: 0.8939\n",
      "Epoch 59/100\n",
      "2592/2592 [==============================] - 7s 3ms/step - loss: 0.2381 - acc: 0.8958\n",
      "Epoch 60/100\n",
      "2592/2592 [==============================] - 8s 3ms/step - loss: 0.2392 - acc: 0.8958\n",
      "Epoch 61/100\n",
      "2592/2592 [==============================] - 8s 3ms/step - loss: 0.2482 - acc: 0.8904\n",
      "Epoch 62/100\n",
      "2592/2592 [==============================] - 8s 3ms/step - loss: 0.2403 - acc: 0.8951\n",
      "Epoch 63/100\n",
      "2592/2592 [==============================] - 8s 3ms/step - loss: 0.2432 - acc: 0.8951\n",
      "Epoch 64/100\n",
      "2592/2592 [==============================] - 7s 3ms/step - loss: 0.2356 - acc: 0.8943\n",
      "Epoch 65/100\n",
      "2592/2592 [==============================] - 7s 3ms/step - loss: 0.2457 - acc: 0.8920\n",
      "Epoch 66/100\n",
      "2592/2592 [==============================] - 8s 3ms/step - loss: 0.2373 - acc: 0.8931\n",
      "Epoch 67/100\n",
      "2592/2592 [==============================] - 7s 3ms/step - loss: 0.2382 - acc: 0.8958\n",
      "Epoch 68/100\n",
      "2592/2592 [==============================] - 7s 3ms/step - loss: 0.2383 - acc: 0.8954\n",
      "Epoch 69/100\n",
      "2592/2592 [==============================] - 7s 3ms/step - loss: 0.2330 - acc: 0.9039\n",
      "Epoch 70/100\n",
      "2592/2592 [==============================] - 7s 3ms/step - loss: 0.2353 - acc: 0.8970\n",
      "Epoch 71/100\n",
      "2592/2592 [==============================] - 8s 3ms/step - loss: 0.2369 - acc: 0.8954\n",
      "Epoch 72/100\n",
      "2592/2592 [==============================] - 8s 3ms/step - loss: 0.2386 - acc: 0.8924\n",
      "Epoch 73/100\n",
      "2592/2592 [==============================] - 8s 3ms/step - loss: 0.2452 - acc: 0.8943\n",
      "Epoch 74/100\n",
      "2592/2592 [==============================] - 8s 3ms/step - loss: 0.2299 - acc: 0.9032\n",
      "Epoch 75/100\n",
      "2592/2592 [==============================] - 8s 3ms/step - loss: 0.2294 - acc: 0.9032\n",
      "Epoch 76/100\n",
      "2592/2592 [==============================] - 8s 3ms/step - loss: 0.2336 - acc: 0.8947\n",
      "Epoch 77/100\n",
      "2592/2592 [==============================] - 8s 3ms/step - loss: 0.2271 - acc: 0.8978\n",
      "Epoch 78/100\n",
      "2592/2592 [==============================] - 8s 3ms/step - loss: 0.2270 - acc: 0.8970\n",
      "Epoch 79/100\n",
      "2592/2592 [==============================] - 7s 3ms/step - loss: 0.2292 - acc: 0.8981\n",
      "Epoch 80/100\n",
      "2592/2592 [==============================] - 7s 3ms/step - loss: 0.2287 - acc: 0.8966\n",
      "Epoch 81/100\n",
      "2592/2592 [==============================] - 7s 3ms/step - loss: 0.2225 - acc: 0.9066\n",
      "Epoch 82/100\n",
      "2592/2592 [==============================] - 8s 3ms/step - loss: 0.2255 - acc: 0.9016\n",
      "Epoch 83/100\n",
      "2592/2592 [==============================] - 7s 3ms/step - loss: 0.2223 - acc: 0.9059\n",
      "Epoch 84/100\n",
      "2592/2592 [==============================] - 7s 3ms/step - loss: 0.2232 - acc: 0.9039\n",
      "Epoch 85/100\n",
      "2592/2592 [==============================] - 7s 3ms/step - loss: 0.2290 - acc: 0.8947\n",
      "Epoch 86/100\n",
      "2592/2592 [==============================] - 7s 3ms/step - loss: 0.2190 - acc: 0.9055\n",
      "Epoch 87/100\n",
      "2592/2592 [==============================] - 7s 3ms/step - loss: 0.2228 - acc: 0.9032\n",
      "Epoch 88/100\n",
      "2592/2592 [==============================] - 7s 3ms/step - loss: 0.2215 - acc: 0.9020\n",
      "Epoch 89/100\n",
      "2592/2592 [==============================] - 7s 3ms/step - loss: 0.2198 - acc: 0.9024\n",
      "Epoch 90/100\n",
      "2592/2592 [==============================] - 7s 3ms/step - loss: 0.2159 - acc: 0.9086\n",
      "Epoch 91/100\n",
      "2592/2592 [==============================] - 7s 3ms/step - loss: 0.2171 - acc: 0.9059\n",
      "Epoch 92/100\n",
      "2592/2592 [==============================] - 8s 3ms/step - loss: 0.2156 - acc: 0.9020\n",
      "Epoch 93/100\n",
      "2592/2592 [==============================] - 8s 3ms/step - loss: 0.2220 - acc: 0.9020\n",
      "Epoch 94/100\n",
      "2592/2592 [==============================] - 8s 3ms/step - loss: 0.2159 - acc: 0.9090\n",
      "Epoch 95/100\n",
      "2592/2592 [==============================] - 8s 3ms/step - loss: 0.2089 - acc: 0.9132\n",
      "Epoch 96/100\n",
      "2592/2592 [==============================] - 8s 3ms/step - loss: 0.2155 - acc: 0.9086\n",
      "Epoch 97/100\n",
      "2592/2592 [==============================] - 8s 3ms/step - loss: 0.2229 - acc: 0.9047\n",
      "Epoch 98/100\n",
      "2592/2592 [==============================] - 8s 3ms/step - loss: 0.2054 - acc: 0.9082\n",
      "Epoch 99/100\n",
      "2592/2592 [==============================] - 8s 3ms/step - loss: 0.2144 - acc: 0.9043\n",
      "Epoch 100/100\n",
      "2592/2592 [==============================] - 8s 3ms/step - loss: 0.2193 - acc: 0.9035\n"
     ]
    },
    {
     "data": {
      "text/plain": [
       "<keras.callbacks.History at 0x7f0189e32f28>"
      ]
     },
     "execution_count": 36,
     "metadata": {},
     "output_type": "execute_result"
    }
   ],
   "source": [
    "model.fit(x_train, y_train, batch_size=32,epochs=100)"
   ]
  },
  {
   "cell_type": "code",
   "execution_count": 37,
   "metadata": {},
   "outputs": [],
   "source": [
    "model.save('model.h5')"
   ]
  },
  {
   "cell_type": "code",
   "execution_count": 38,
   "metadata": {},
   "outputs": [
    {
     "name": "stdout",
     "output_type": "stream",
     "text": [
      "648/648 [==============================] - 1s 1ms/step\n"
     ]
    },
    {
     "data": {
      "text/plain": [
       "[0.25502476077756764, 0.8873456790123457]"
      ]
     },
     "execution_count": 38,
     "metadata": {},
     "output_type": "execute_result"
    }
   ],
   "source": [
    "model.evaluate(x_test, y_test)"
   ]
  },
  {
   "cell_type": "code",
   "execution_count": 43,
   "metadata": {},
   "outputs": [],
   "source": [
    "audio, sample_rate = librosa.load('./test3.mp3')\n",
    "mfccs = np.mean(librosa.feature.mfcc(y=audio, sr=sample_rate, n_mfcc=40).T, axis=0)\n",
    "feature = np.array(mfccs).reshape([-1,1])"
   ]
  },
  {
   "cell_type": "code",
   "execution_count": 44,
   "metadata": {},
   "outputs": [],
   "source": [
    "feature = feature.reshape((1,40,1))"
   ]
  },
  {
   "cell_type": "code",
   "execution_count": 81,
   "metadata": {},
   "outputs": [
    {
     "data": {
      "text/plain": [
       "array([[0.8922206]], dtype=float32)"
      ]
     },
     "execution_count": 81,
     "metadata": {},
     "output_type": "execute_result"
    }
   ],
   "source": [
    "model.predict(feature)"
   ]
  },
  {
   "cell_type": "code",
   "execution_count": 50,
   "metadata": {},
   "outputs": [
    {
     "data": {
      "text/plain": [
       "array([0., 0., 0., ..., 0., 0., 0.], dtype=float32)"
      ]
     },
     "execution_count": 50,
     "metadata": {},
     "output_type": "execute_result"
    }
   ],
   "source": [
    "model.predict"
   ]
  },
  {
   "cell_type": "code",
   "execution_count": 2,
   "metadata": {},
   "outputs": [],
   "source": [
    "from keras.models import load_model"
   ]
  },
  {
   "cell_type": "code",
   "execution_count": 3,
   "metadata": {},
   "outputs": [],
   "source": [
    "my_model = load_model('model.h5')"
   ]
  },
  {
   "cell_type": "code",
   "execution_count": 47,
   "metadata": {},
   "outputs": [],
   "source": [
    "pred = my_model.predict(feature)"
   ]
  },
  {
   "cell_type": "code",
   "execution_count": 62,
   "metadata": {},
   "outputs": [
    {
     "data": {
      "image/png": "[encoded data removed]",
      "text/plain": [
       "<Figure size 432x288 with 1 Axes>"
      ]
     },
     "metadata": {
      "needs_background": "light"
     },
     "output_type": "display_data"
    }
   ],
   "source": [
    "import pylab\n",
    "# pylab.axis('off') # no axis\n",
    "# pylab.axes([0., 0., 1., 1.], frameon=False, xticks=[], yticks=[])\n",
    "librosa.display.waveplot(audio)\n",
    "pylab.savefig('img.jpg')"
   ]
  },
  {
   "cell_type": "code",
   "execution_count": 51,
   "metadata": {},
   "outputs": [
    {
     "data": {
      "text/plain": [
       "0.9769652"
      ]
     },
     "execution_count": 51,
     "metadata": {},
     "output_type": "execute_result"
    }
   ],
   "source": [
    "pred[0][0]"
   ]
  },
  {
   "cell_type": "code",
   "execution_count": 60,
   "metadata": {},
   "outputs": [
    {
     "data": {
      "text/plain": [
       "<Figure size 432x288 with 0 Axes>"
      ]
     },
     "metadata": {},
     "output_type": "display_data"
    }
   ],
   "source": [
    "# import pylab\n",
    "pylab.savefig('img.jpg', bbox_inches=None, pad_inches=0)"
   ]
  },
  {
   "cell_type": "code",
   "execution_count": null,
   "metadata": {},
   "outputs": [],
   "source": []
  }
 ],
 "metadata": {
  "kernelspec": {
   "display_name": "Python 3",
   "language": "python",
   "name": "python3"
  },
  "language_info": {
   "codemirror_mode": {
    "name": "ipython",
    "version": 3
   },
   "file_extension": ".py",
   "mimetype": "text/x-python",
   "name": "python",
   "nbconvert_exporter": "python",
   "pygments_lexer": "ipython3",
   "version": "3.6.6"
  }
 },
 "nbformat": 4,
 "nbformat_minor": 2
}
